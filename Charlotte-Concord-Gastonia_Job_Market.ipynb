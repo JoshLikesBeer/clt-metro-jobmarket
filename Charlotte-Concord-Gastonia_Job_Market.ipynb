{
 "cells": [
  {
   "cell_type": "markdown",
   "metadata": {},
   "source": [
    "# Charlotte Metro Area Job Market 1990-2016"
   ]
  },
  {
   "cell_type": "markdown",
   "metadata": {},
   "source": [
    "### 1. Region and Domain\n",
    "<b>State the region and the domain category that your data sets are about.</b><br/>\n",
    "<br/>\n",
    "<div style=\"margin-left:1em\">Charlotte-Concord-Gastonia Metro Area, North Carolina, United States.<br/>\n",
    "Economic Activity or Measures</div>"
   ]
  },
  {
   "cell_type": "markdown",
   "metadata": {},
   "source": [
    "### 2. Research Question\n",
    "<b>You must state a question about the domain category and region that you identified as being\n",
    "interesting.</b><br/>\n",
    "<br/>\n",
    "<div style=\"margin-left:1em\">How has the size of the job market, employment rate, and employment by industry changed over time in the Charlotte, NC metro area?</div>"
   ]
  },
  {
   "cell_type": "markdown",
   "metadata": {},
   "source": [
    "### 3. Links\n",
    "<b>You must provide at least two links to publicly accessible datasets. These could be links to\n",
    "files such as CSV or Excel files, or links to websites which might have data in tabular form,\n",
    "such as Wikipedia pages.</b><br/>\n",
    "<ul>\n",
    "<li>https://data.bls.gov/timeseries/LAUMT371674000000006 (Labor Force Data)</li>\n",
    "<li>https://data.bls.gov/timeseries/SMU37167400000000001 (Total Nonfarm)</li>\n",
    "<li>https://data.bls.gov/timeseries/SMU37167401500000001 (Mining, Logging, Construction)</li>\n",
    "<li>https://data.bls.gov/timeseries/SMU37167403000000001 (Manufacturing)</li>\n",
    "<li>https://data.bls.gov/timeseries/SMU37167404000000001 (Trade, Transportation, Utilities)</li>\n",
    "<li>https://data.bls.gov/timeseries/SMU37167405000000001 (Information)</li>\n",
    "<li>https://data.bls.gov/timeseries/SMU37167405500000001 (Financial Activities)</li>\n",
    "<li>https://data.bls.gov/timeseries/SMU37167406000000001 (Professional and Business Services)</li>\n",
    "<li>https://data.bls.gov/timeseries/SMU37167406500000001 (Education and Health Services)</li>\n",
    "<li>https://data.bls.gov/timeseries/SMU37167407000000001 (Leisure and Hospitality)</li>\n",
    "<li>https://data.bls.gov/timeseries/SMU37167408000000001 (Other Services)</li>\n",
    "<li>https://data.bls.gov/timeseries/SMU37167409000000001 (Government)</li>\n",
    "</ul>\n",
    "<br/>\n",
    "The links run a query with default settings. For each of them, I clicked the link for \"More Formatting Options\", selected \"All Years\" and \"Annual Data\" time frame, selected \"Text\" and \"comma delimited\" output type, unchecked \"Include graphs\", and checked \"include annual averages\".  I then copied the data and pasted into CSV files, which I then uploaded to GitHub. This notebook reads the data files directly from GitHub."
   ]
  },
  {
   "cell_type": "code",
   "execution_count": null,
   "metadata": {
    "collapsed": true
   },
   "outputs": [],
   "source": []
  }
 ],
 "metadata": {
  "kernelspec": {
   "display_name": "Default",
   "language": "python",
   "name": "default"
  },
  "language_info": {
   "codemirror_mode": {
    "name": "ipython",
    "version": 3
   },
   "file_extension": ".py",
   "mimetype": "text/x-python",
   "name": "python",
   "nbconvert_exporter": "python",
   "pygments_lexer": "ipython3",
   "version": "3.5.2"
  }
 },
 "nbformat": 4,
 "nbformat_minor": 2
}
